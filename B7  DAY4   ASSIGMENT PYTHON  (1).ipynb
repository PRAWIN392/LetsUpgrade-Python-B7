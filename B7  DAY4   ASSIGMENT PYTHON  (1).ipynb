{
 "cells": [
  {
   "cell_type": "markdown",
   "metadata": {},
   "source": [
    "# DAY-4 ASSIGMENT"
   ]
  },
  {
   "cell_type": "code",
   "execution_count": 7,
   "metadata": {},
   "outputs": [
    {
     "name": "stdout",
     "output_type": "stream",
     "text": [
      "The first armstrong number is : 1741725\n"
     ]
    }
   ],
   "source": [
    "i = 1042000\n",
    "\n",
    "while i <= 702648265:\n",
    "\n",
    "    n = len(str(i))\n",
    "    \n",
    "    result=0\n",
    "\n",
    "    num = i\n",
    "    \n",
    "    while num > 0:\n",
    "        \n",
    "        digit = num % 10\n",
    "        \n",
    "        result += digit ** n\n",
    "        \n",
    "        num //= 10\n",
    "\n",
    "    if i == result:\n",
    "        print(\"The first armstrong number is :\",i)\n",
    "        break\n",
    "    \n",
    "    i += 1"
   ]
  }
 ],
 "metadata": {
  "kernelspec": {
   "display_name": "Python 3",
   "language": "python",
   "name": "python3"
  },
  "language_info": {
   "codemirror_mode": {
    "name": "ipython",
    "version": 3
   },
   "file_extension": ".py",
   "mimetype": "text/x-python",
   "name": "python",
   "nbconvert_exporter": "python",
   "pygments_lexer": "ipython3",
   "version": "3.8.3"
  }
 },
 "nbformat": 4,
 "nbformat_minor": 4
}
