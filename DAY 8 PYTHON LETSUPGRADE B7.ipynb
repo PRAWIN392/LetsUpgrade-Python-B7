{
 "cells": [
  {
   "cell_type": "markdown",
   "metadata": {},
   "source": [
    "# DAY-8 QUESTION 1"
   ]
  },
  {
   "cell_type": "code",
   "execution_count": 5,
   "metadata": {},
   "outputs": [],
   "source": [
    "arr = []\n",
    "\n",
    "def getInput(calculate_arg_fun):\n",
    "    \n",
    "    def wrap_function():\n",
    "        \n",
    "        print(\"enter any two numbers =\")\n",
    "        \n",
    "        a = int(input(\"Enter your upper limit - \"))\n",
    "        \n",
    "        b = int(input(\"Enter your lower limit - \"))\n",
    "        \n",
    "        for i in range(a,b):\n",
    "            \n",
    "            calculate_arg_fun(i)\n",
    "            \n",
    "    return wrap_function"
   ]
  },
  {
   "cell_type": "code",
   "execution_count": 6,
   "metadata": {},
   "outputs": [],
   "source": [
    "@getInput\n",
    "\n",
    "def prime(num):\n",
    "    \n",
    "    check = 0\n",
    "    \n",
    "    for y in range(2,num):\n",
    "        \n",
    "        if num%y == 0 :\n",
    "            \n",
    "            check+=1\n",
    "            \n",
    "    if check==0 and num != 1:\n",
    "        \n",
    "        arr.append(num)"
   ]
  },
  {
   "cell_type": "code",
   "execution_count": 7,
   "metadata": {
    "scrolled": true
   },
   "outputs": [
    {
     "name": "stdout",
     "output_type": "stream",
     "text": [
      "enter any two numbers =\n",
      "Enter your upper limit - 1\n",
      "Enter your lower limit - 250\n"
     ]
    }
   ],
   "source": [
    "prime()"
   ]
  },
  {
   "cell_type": "code",
   "execution_count": 8,
   "metadata": {},
   "outputs": [
    {
     "name": "stdout",
     "output_type": "stream",
     "text": [
      "[2, 3, 5, 7, 11, 13, 17, 19, 23, 29, 31, 37, 41, 43, 47, 53, 59, 61, 67, 71, 73, 79, 83, 89, 97, 101, 103, 107, 109, 113, 127, 131, 137, 139, 149, 151, 157, 163, 167, 173, 179, 181, 191, 193, 197, 199, 211, 223, 227, 229, 233, 239, 241]\n"
     ]
    }
   ],
   "source": [
    "print(arr)"
   ]
  },
  {
   "cell_type": "markdown",
   "metadata": {},
   "source": [
    "# DAY-8 QUESTION 2"
   ]
  },
  {
   "cell_type": "code",
   "execution_count": 12,
   "metadata": {},
   "outputs": [
    {
     "name": "stdout",
     "output_type": "stream",
     "text": [
      "Writing assigmentLU.txt\n"
     ]
    }
   ],
   "source": [
    "%%writefile assigmentLU.txt\n",
    "\n",
    "Hey this PRAWIN R P\n",
    "I am living in chennai"
   ]
  },
  {
   "cell_type": "code",
   "execution_count": 29,
   "metadata": {},
   "outputs": [
    {
     "name": "stdout",
     "output_type": "stream",
     "text": [
      "not writable\n"
     ]
    }
   ],
   "source": [
    "try:\n",
    "    \n",
    "    \n",
    "    file = open(\"assigmentLU.txt\",\"r\" )\n",
    "    \n",
    "    file.write(\"HELLO WORLD!! I AM A PROGRAMMER\")\n",
    "    \n",
    "    print(\"\\nWrite operation has done successfully in read only mode.\")\n",
    "    \n",
    "except Exception as e:\n",
    "    \n",
    "    print(e)"
   ]
  }
 ],
 "metadata": {
  "kernelspec": {
   "display_name": "Python 3",
   "language": "python",
   "name": "python3"
  },
  "language_info": {
   "codemirror_mode": {
    "name": "ipython",
    "version": 3
   },
   "file_extension": ".py",
   "mimetype": "text/x-python",
   "name": "python",
   "nbconvert_exporter": "python",
   "pygments_lexer": "ipython3",
   "version": "3.8.3"
  }
 },
 "nbformat": 4,
 "nbformat_minor": 4
}
