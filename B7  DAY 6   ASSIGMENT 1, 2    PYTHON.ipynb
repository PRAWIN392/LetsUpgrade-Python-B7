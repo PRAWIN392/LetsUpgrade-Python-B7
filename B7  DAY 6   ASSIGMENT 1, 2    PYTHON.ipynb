{
 "cells": [
  {
   "cell_type": "markdown",
   "metadata": {},
   "source": [
    "#  DAY-6 QUESTION 1"
   ]
  },
  {
   "cell_type": "code",
   "execution_count": 67,
   "metadata": {},
   "outputs": [],
   "source": [
    "class BankAccount():\n",
    "    \n",
    "    def __init__(self):\n",
    "        self.ownername = \"PRAWIN R P\"\n",
    "        self.balance = 0\n",
    "        \n",
    "    def deposit(self):\n",
    "        \n",
    "        amount = float(input(\"\\nEnter the amount to be deposited:-\"))\n",
    "        self.balance +=amount\n",
    "        print(\"\\nThe amount you have deposited is:-\", amount)\n",
    "    \n",
    "    def withdraw(self):\n",
    "        \n",
    "        amount= float(input(\"\\nEnter the amount to be withdraw:-\"))\n",
    "        if self.balance >= amount:\n",
    "            self.balance -= amount\n",
    "            print(\"\\nThe amount you have withdrawed is :-\", amount)\n",
    "            \n",
    "        else:\n",
    "            print(\"\\nInsuffcient balance\")"
   ]
  },
  {
   "cell_type": "code",
   "execution_count": 68,
   "metadata": {},
   "outputs": [
    {
     "name": "stdout",
     "output_type": "stream",
     "text": [
      "\n",
      "Account Holder Name;- PRAWIN R P\n",
      "\n",
      "Initial Balance In The Account:- 0\n",
      "\n",
      "Enter the amount to be deposited:-2000\n",
      "\n",
      "The amount you have deposited is:- 2000.0\n",
      "\n",
      "Enter the amount to be withdraw:-750\n",
      "\n",
      "The amount you have withdrawed is :- 750.0\n",
      "\n",
      "Net Avalible Balance in the account is:- 1250.0\n"
     ]
    }
   ],
   "source": [
    "BankAccount=BankAccount()\n",
    "print(\"\\nAccount Holder Name;-\", BankAccount.ownername)\n",
    "print(\"\\nInitial Balance In The Account:-\",BankAccount.balance)\n",
    "BankAccount.deposit()\n",
    "BankAccount.withdraw()\n",
    "print(\"\\nNet Avalible Balance in the account is:-\",BankAccount.balance)"
   ]
  },
  {
   "cell_type": "markdown",
   "metadata": {},
   "source": [
    "# DAY-6 QUESTION 2"
   ]
  },
  {
   "cell_type": "code",
   "execution_count": 2,
   "metadata": {},
   "outputs": [],
   "source": [
    "import math\n",
    "\n",
    "pi=math.pi\n",
    "\n",
    "class cone:\n",
    "    \n",
    "    def __init__(self,r,h):\n",
    "        \n",
    "        self.r=r\n",
    "        \n",
    "        self.h=h\n",
    "        \n",
    "    def volume(self):\n",
    "            \n",
    "            answer = (1 / 3) * pi * self.r * self.r * self.h\n",
    "            \n",
    "            print(\"\\nvolume of the cone:-\", answer)\n",
    "        \n",
    "    def surfacearea(self):\n",
    "            \n",
    "            answer = pi * self.r * self.h + pi *self.r *self.r\n",
    "            \n",
    "            print(\"\\nsurface area of the cone:-\", answer)\n",
    "        \n",
    "        "
   ]
  },
  {
   "cell_type": "code",
   "execution_count": 3,
   "metadata": {},
   "outputs": [
    {
     "name": "stdout",
     "output_type": "stream",
     "text": [
      "\n",
      "enter the radius of the cone:-5\n",
      "\n",
      "enter the hieght of the cone:-6\n",
      "\n",
      "volume of the cone:- 157.07963267948963\n",
      "\n",
      "surface area of the cone:- 172.7875959474386\n"
     ]
    }
   ],
   "source": [
    "radius = float(input(\"\\nenter the radius of the cone:-\"))\n",
    "\n",
    "hieght = float(input(\"\\nenter the hieght of the cone:-\"))\n",
    "\n",
    "c = cone(radius,hieght)\n",
    "c.volume()\n",
    "c.surfacearea()"
   ]
  }
 ],
 "metadata": {
  "kernelspec": {
   "display_name": "Python 3",
   "language": "python",
   "name": "python3"
  },
  "language_info": {
   "codemirror_mode": {
    "name": "ipython",
    "version": 3
   },
   "file_extension": ".py",
   "mimetype": "text/x-python",
   "name": "python",
   "nbconvert_exporter": "python",
   "pygments_lexer": "ipython3",
   "version": "3.8.3"
  }
 },
 "nbformat": 4,
 "nbformat_minor": 4
}
